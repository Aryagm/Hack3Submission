{
 "cells": [
  {
   "cell_type": "markdown",
   "metadata": {},
   "source": [
    "# What this notebook does\n",
    "\n",
    "* Tries out different configurations to find the best model for the transformed data"
   ]
  },
  {
   "cell_type": "markdown",
   "metadata": {},
   "source": [
    "# Imports and Setup"
   ]
  },
  {
   "cell_type": "code",
   "execution_count": 21,
   "metadata": {},
   "outputs": [],
   "source": [
    "import os\n",
    "import shutil\n",
    "import warnings\n",
    "\n",
    "import dill\n",
    "import flaml\n",
    "import joblib\n",
    "import matplotlib.pyplot as plt\n",
    "import numpy as np\n",
    "import pandas as pd\n",
    "import ppscore as pps\n",
    "import seaborn as sns\n",
    "from pandas_profiling import ProfileReport\n",
    "from phik import phik_matrix\n",
    "from sklearn.metrics import (accuracy_score,\n",
    "                             f1_score)\n",
    "\n",
    "%matplotlib inline\n",
    "sns.set()\n",
    "warnings.filterwarnings(\"ignore\")\n"
   ]
  },
  {
   "cell_type": "markdown",
   "metadata": {},
   "source": [
    "# Loading the data"
   ]
  },
  {
   "cell_type": "code",
   "execution_count": 3,
   "metadata": {},
   "outputs": [],
   "source": [
    "trainset = pd.read_csv('../Data/trainset.csv')\n",
    "valset = pd.read_csv('../Data/valset.csv')\n",
    "testset = pd.read_csv('../Data/testset.csv')"
   ]
  },
  {
   "cell_type": "code",
   "execution_count": 4,
   "metadata": {},
   "outputs": [],
   "source": [
    "X_train = trainset.drop([\"Anxiety\", \"Depression\", \"Compulsive behavior\"], axis=1)\n",
    "y_train_anxiety = trainset[\"Anxiety\"]\n",
    "y_train_depression = trainset[\"Depression\"]\n",
    "y_train_compulsive_behavior = trainset[\"Compulsive behavior\"]\n",
    "X_val = valset.drop([\"Anxiety\", \"Depression\", \"Compulsive behavior\"], axis=1)\n",
    "y_val_anxiety = valset[\"Anxiety\"]\n",
    "y_val_depression = valset[\"Depression\"]\n",
    "y_val_compulsive_behavior = valset[\"Compulsive behavior\"]\n",
    "X_test = testset.drop([\"Anxiety\", \"Depression\", \"Compulsive behavior\"], axis=1)\n",
    "y_test_anxiety = testset[\"Anxiety\"]\n",
    "y_test_depression = testset[\"Depression\"]\n",
    "y_test_compulsive_behavior = testset[\"Compulsive behavior\"]"
   ]
  },
  {
   "cell_type": "markdown",
   "metadata": {},
   "source": [
    "# Function to create models"
   ]
  },
  {
   "cell_type": "code",
   "execution_count": 5,
   "metadata": {},
   "outputs": [],
   "source": [
    "def create_model(X_train, y_train, X_val, y_val, time_limit, ensemble, metric, path):\n",
    "    \n",
    "    if not os.path.exists(path):\n",
    "        os.makedirs(path)\n",
    "        \n",
    "    automl_settings = {\n",
    "            \"time_budget\": round(time_limit),\n",
    "            \"metric\": metric,\n",
    "            \"task\": 'classification',\n",
    "            \"ensemble\": ensemble,\n",
    "            \"verbose\": 0,\n",
    "            \"log_file_name\":\"\",\n",
    "            \"n_jobs\":-1,\n",
    "            \"estimator_list\":[\"lgbm\", \"rf\", \"catboost\", \"xgboost\", \"extra_tree\", \"xgb_limitdepth\"],\n",
    "            \n",
    "        }\n",
    "    \n",
    "    \n",
    "    automl = flaml.AutoML(early_stopping=True)\n",
    "    automl.fit(X_train, y_train, X_val=X_val, y_val=y_val, **automl_settings)\n",
    "    \n",
    "    \n",
    "    print(\" \")\n",
    "    print(\"Model Performance\")\n",
    "    print(\" \")\n",
    "    print(f\"Accuracy Score on train set: {round(accuracy_score(y_train, automl.predict(X_train))*100, 4)}%\")\n",
    "    print(f\"Accuracy Score on validation set: {round(accuracy_score(y_val, automl.predict(X_val))*100, 4)}%\")\n",
    "    print(f\"F1 Score on train set: {round(f1_score(y_train, automl.predict(X_train)), 4)}\")\n",
    "    print(f\"F1 Score on validation set: {round(f1_score(y_val, automl.predict(X_val)), 4)}\")\n",
    "    print(\"\\n--------------------\\n\\n\")\n",
    "    \n",
    "    if ensemble:\n",
    "        print(\"Estimator:\")\n",
    "        print(automl.model)\n",
    "        print(\"\\n--------------------\\n\\n\")\n",
    "    else:\n",
    "        print(\"Estimator:\")\n",
    "        print(automl.model.estimator)\n",
    "        print(\"\\n--------------------\\n\\n\")\n",
    "        \n",
    "    with open(path+\"/metrics.txt\", \"w\") as f:\n",
    "        f.write(\"Model Performance\\n\")\n",
    "        f.write(\" \")\n",
    "        f.write(f\"Accuracy Score on validation set: {round(accuracy_score(y_val, automl.predict(X_val))*100, 4)}%\")\n",
    "        f.write(f\"Accuracy Score on train set: {round(accuracy_score(y_train, automl.predict(X_train))*100, 4)}%\")\n",
    "        f.write(f\"F1 Score on train set: {round(f1_score(y_train, automl.predict(X_train)), 4)}\")\n",
    "        f.write(f\"F1 Score on validation set: {round(f1_score(y_val, automl.predict(X_val)), 4)}\")\n",
    "        f.write(\"\\n--------------------\\n\\n\")\n",
    "        f.write(\"Estimator:\\n\")\n",
    "        if ensemble:\n",
    "            f.write(str(automl.model))\n",
    "        else:\n",
    "            f.write(str(automl.model.estimator))\n",
    "        f.write(\"\\n--------------------\\n\\n\")\n",
    "    \n",
    "    with open(path+\"/config.txt\", \"w\") as f:\n",
    "        f.write(\"Configuration:\\n\")\n",
    "        f.write(str(automl_settings))\n",
    "        f.write(f\"\\nNote: early_stopping was set to true\")\n",
    "    \n",
    "    joblib.dump(automl.model, path+\"/model.dgx\")\n",
    "    return automl.model\n",
    "    "
   ]
  },
  {
   "cell_type": "code",
   "execution_count": 6,
   "metadata": {},
   "outputs": [
    {
     "name": "stdout",
     "output_type": "stream",
     "text": [
      " \n",
      "Model Performance\n",
      " \n",
      "Accuracy Score on train set: 77.0213%\n",
      "Accuracy Score on validation set: 100.0%\n",
      "F1 Score on train set: 0.4375\n",
      "F1 Score on validation set: 1.0\n",
      "\n",
      "--------------------\n",
      "\n",
      "\n",
      "Estimator:\n",
      "StackingClassifier(estimators=[('lgbm',\n",
      "                                <flaml.model.LGBMEstimator object at 0x000001648343B430>),\n",
      "                               ('rf',\n",
      "                                <flaml.model.RandomForestEstimator object at 0x00000164832E6430>)],\n",
      "                   final_estimator=<flaml.model.LGBMEstimator object at 0x0000016482421BB0>,\n",
      "                   n_jobs=-1, passthrough=True)\n",
      "\n",
      "--------------------\n",
      "\n",
      "\n",
      "CPU times: total: 5min 37s\n",
      "Wall time: 5min 32s\n"
     ]
    }
   ],
   "source": [
    "%%time\n",
    "model_1 = create_model(X_train, y_train_anxiety, X_val, y_val_anxiety, time_limit=5*60, ensemble=True, metric=\"f1\", path=\"../Artifacts/models/trial_1_anxiety\")"
   ]
  },
  {
   "cell_type": "code",
   "execution_count": 7,
   "metadata": {},
   "outputs": [
    {
     "name": "stdout",
     "output_type": "stream",
     "text": [
      " \n",
      "Model Performance\n",
      " \n",
      "Accuracy Score on train set: 87.6596%\n",
      "Accuracy Score on validation set: 100.0%\n",
      "F1 Score on train set: 0.7852\n",
      "F1 Score on validation set: 1.0\n",
      "\n",
      "--------------------\n",
      "\n",
      "\n",
      "Estimator:\n",
      "StackingClassifier(estimators=[('lgbm',\n",
      "                                <flaml.model.LGBMEstimator object at 0x0000016482FCF5B0>),\n",
      "                               ('rf',\n",
      "                                <flaml.model.RandomForestEstimator object at 0x00000164833BEC70>)],\n",
      "                   final_estimator=<flaml.model.XGBoostSklearnEstimator object at 0x000001648361E610>,\n",
      "                   n_jobs=-1, passthrough=True)\n",
      "\n",
      "--------------------\n",
      "\n",
      "\n",
      "CPU times: total: 7min 34s\n",
      "Wall time: 5min 31s\n"
     ]
    }
   ],
   "source": [
    "%%time\n",
    "model_2 = create_model(X_train, y_train_depression, X_val, y_val_depression, time_limit=5*60, ensemble=True, metric=\"f1\", path=\"../Artifacts/models/trial_1_depression\")"
   ]
  },
  {
   "cell_type": "code",
   "execution_count": 8,
   "metadata": {},
   "outputs": [
    {
     "name": "stdout",
     "output_type": "stream",
     "text": [
      " \n",
      "Model Performance\n",
      " \n",
      "Accuracy Score on train set: 94.0426%\n",
      "Accuracy Score on validation set: 100.0%\n",
      "F1 Score on train set: 0.4615\n",
      "F1 Score on validation set: 1.0\n",
      "\n",
      "--------------------\n",
      "\n",
      "\n",
      "Estimator:\n",
      "StackingClassifier(estimators=[('lgbm',\n",
      "                                <flaml.model.LGBMEstimator object at 0x0000016483009FA0>),\n",
      "                               ('rf',\n",
      "                                <flaml.model.RandomForestEstimator object at 0x000001648366CEB0>)],\n",
      "                   final_estimator=<flaml.model.XGBoostSklearnEstimator object at 0x0000016481388520>,\n",
      "                   n_jobs=-1, passthrough=True)\n",
      "\n",
      "--------------------\n",
      "\n",
      "\n",
      "CPU times: total: 6min 47s\n",
      "Wall time: 5min 37s\n"
     ]
    }
   ],
   "source": [
    "%%time\n",
    "model_3 = create_model(X_train, y_train_compulsive_behavior, X_val, y_val_compulsive_behavior, time_limit=5*60, ensemble=True, metric=\"f1\", path=\"../Artifacts/models/trial_1_compulsive_behavior\")"
   ]
  },
  {
   "cell_type": "markdown",
   "metadata": {},
   "source": [
    "# Moving Finalized models to appropriate directory"
   ]
  },
  {
   "cell_type": "code",
   "execution_count": 19,
   "metadata": {},
   "outputs": [],
   "source": [
    "# Move allfiles ending in .dgx to the models folder:\n",
    "list_of_files = []\n",
    "for (dirpath, dirnames, filenames) in os.walk(\"../Artifacts/models\"):\n",
    "    for filename in filenames:\n",
    "        if filename.endswith('.dgx'): \n",
    "            list_of_files.append(os.path.join(dirpath, filename))"
   ]
  },
  {
   "cell_type": "code",
   "execution_count": 24,
   "metadata": {},
   "outputs": [
    {
     "data": {
      "text/plain": [
       "'../Models/compulsive_behavior_model.dgx'"
      ]
     },
     "execution_count": 24,
     "metadata": {},
     "output_type": "execute_result"
    }
   ],
   "source": [
    "# Copy all files in list_of_files to the models folder:\n",
    "shutil.copy(list_of_files[0], \"../Models/anxiety_model.dgx\")\n",
    "shutil.copy(list_of_files[1], \"../Models/depression_model.dgx\")\n",
    "shutil.copy(list_of_files[2], \"../Models/compulsive_behavior_model.dgx\")"
   ]
  },
  {
   "cell_type": "markdown",
   "metadata": {},
   "source": [
    "# Done!"
   ]
  }
 ],
 "metadata": {
  "kernelspec": {
   "display_name": "Python 3.8.12 ('final_ml')",
   "language": "python",
   "name": "python3"
  },
  "language_info": {
   "codemirror_mode": {
    "name": "ipython",
    "version": 3
   },
   "file_extension": ".py",
   "mimetype": "text/x-python",
   "name": "python",
   "nbconvert_exporter": "python",
   "pygments_lexer": "ipython3",
   "version": "3.8.12"
  },
  "orig_nbformat": 4,
  "vscode": {
   "interpreter": {
    "hash": "43d3fe4e98e7d0e1999e1d661367db889afea1459a6fac0d7043eb2d832bdf2d"
   }
  }
 },
 "nbformat": 4,
 "nbformat_minor": 2
}
